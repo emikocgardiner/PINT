{
 "cells": [
  {
   "cell_type": "markdown",
   "metadata": {},
   "source": [
    "# Validation Example for PINT paper\n",
    "\n",
    "A comparison between PINT result and Tempo/Tempo2 result. This example is presented in the PINT paper to validate that PINT is able to process the PSR J1600-3053 NANOGrav 11-year data set, which uses DD binary model, and get a comparable result with TEMPO/TEMPO2. For more discussion see: https://arxiv.org/abs/2012.00074  \n",
    "\n",
    "This comparison includes the following steps:\n",
    "  * PINT run on PSR J1600-3053 NANOGrav 11-year data set\n",
    "    * Create PINT pre-fit residuals.\n",
    "    * Re-fit data using PINT.\n",
    "    * Create PINT post-fit residuals. \n",
    "    * Obtain the PINT post-fit parameter values.\n",
    "  * TEMPO run on PSR J1600-3053 NANOGrav 11-year data set\n",
    "    * Create TEMPO pre-fit residuals.\n",
    "    * Re-fit data using TEMPO.\n",
    "    * Create TEMPO post-fit residuals.\n",
    "    * Obtain the TEMPO post-fit parameter values.\n",
    "    * Compare the pre-fit and post-fit residuals between PINT and TEMPO.\n",
    "    * Compare the pre-fit and post-fit parameters between PINT and TEMPO.  \n",
    "  * TEMPO2 run on PSR J1600-3053 NANOGrav 11-year data set\n",
    "    * Create TEMPO2 pre-fit residuals.\n",
    "    * Re-fit data using TEMPO2.\n",
    "    * Create TEMPO2 post-fit residuals.\n",
    "    * Obtain the TEMPO2 post-fit parameter values.\n",
    "    * Compare the pre-fit and post-fit residuals between PINT and TEMPO2.\n",
    "    * Compare the pre-fit and post-fit parameters between PINT and TEMPO2.\n",
    "\n",
    "Method of this comparison:\n",
    "\n",
    "   The method we used in this comparison starts from the published data set with a converged timing model. The data in this comparison are produced by TEMPO.\n",
    "   0. The PINT pre-fit residuals and post-fit residuals should be close and no visible difference. If the post-fit and pre-fit residuals are very different, it means PINT has a bug or some different definitions of parameters(e.g., PINT DDK model has different definition of KOM parameter).  \n",
    "   1. Compare the pre-fit residuals between PINT-TEMPO/TEMPO2, to see if there are outstanding discrepancies(residual difference > 10 ns, since we are aim to have our machine precision in the 1 ns level). These discrepancies are likely caused by different code implements and we try to verify the reasons(some of them are bugs in PINT or in TEMPO/TEMPO2, but some of them are just implementation choices). \n",
    "   2. Fit the data and compare the chi2 value and post-fit residuals between PINT and TEMPO/TEMPO2 to exam if the fitter returns a reasonable result(i.e., chi2 and post-fit rms do not deviate from TEMPO/TEMPO2's value too much, etc.). If the fit gives a \"non-sense\" result, that is worth to do more investigation. One of the useful indicators is the discrepancy of the post-fit residuals between PINT and TEMPO/TEMPO2. \n",
    "   3. Compare the post-fit parameters between PINT and TEMPO/TEMPO2. Since the initial parameter are from the same data, there should be not difference. The PINT post-fit parameters should change within the original uncertainties(TEMPO uncertainties), and the PINT uncertainty vs TEMPO/TEMPO2 uncertainty should be close. \n",
    " \n",
    "    \n",
    "Requirement:\n",
    "  * Data set: PRS J1600-3053 NANOGrav 11-year data \n",
    "    * One copy of PRS J1600-3053 NANOGrav 11-year data is included in the PINT source code `docs/examples/J1600-3053_NANOGrav_11yv1.gls.par` and `docs/examples/J1600-3053_NANOGrav_11yv1.tim`, which is the default data path in this notebook. Note, this requires the user to download the PINT source code from github.\n",
    "    * The offical NANOGrav 11-year data can be downloaded at: https://data.nanograv.org/. The data path should be changed to the data location.\n",
    "  * PINT version: 0.8.0 or higher.\n",
    "  * TEMPO and its python utils tempo_utils. \n",
    "    * TEMPO version for current comparison: 13.101 (2020-11-04 c5fbddf)\n",
    "  * TEMPO2 and its python utils tempo2_utils.\n",
    "    * TEMPO2 version for current comparison:  2019.01.1\n",
    "  * TEMPO_utils and TEMPO2_utils are packaged together and can be downloaded from https://github.com/demorest/tempo_utils. \n",
    "  * TEMPO2 general2 plugins. \n"
   ]
  },
  {
   "cell_type": "code",
   "execution_count": null,
   "metadata": {},
   "outputs": [],
   "source": [
    "import pint\n",
    "import sys\n",
    "from pint import toa\n",
    "from pint import models\n",
    "from pint.fitter import GLSFitter\n",
    "import os \n",
    "import matplotlib.pyplot as plt\n",
    "import astropy.units as u\n",
    "import tempo2_utils as t2u\n",
    "import tempo_utils\n",
    "import tempo2_utils\n",
    "import numpy as np\n",
    "from astropy.table import Table\n",
    "from astropy.io import ascii\n",
    "import subprocess\n",
    "import tempfile\n",
    "from pint import ls\n",
    "import astropy.constants as ct\n",
    "from pint.solar_system_ephemerides import objPosVel_wrt_SSB\n",
    "from astropy.time import Time"
   ]
  },
  {
   "cell_type": "markdown",
   "metadata": {},
   "source": [
    "### Print the PINT and TEMPO/TEMPO2 version"
   ]
  },
  {
   "cell_type": "code",
   "execution_count": null,
   "metadata": {},
   "outputs": [],
   "source": [
    "print(\"PINT version: \", pint.__version__)\n",
    "tempo_v = subprocess.check_output([\"tempo\", \"-v\"])\n",
    "print(\"TEMPO version: \", tempo_v.decode(\"utf-8\"))\n",
    "#Not sure why tempo2_v = subprocess.check_output([\"tempo2\", \"-v\"]) does not work.\n",
    "process = subprocess.Popen(['tempo2', '-v'], stdout=subprocess.PIPE)\n",
    "tempo2_v = process.communicate()[0]\n",
    "print(\"TEMPO2 version: \", tempo2_v.decode(\"utf-8\"))"
   ]
  },
  {
   "cell_type": "markdown",
   "metadata": {},
   "source": [
    "### Redefine the Tempo2_util function for larger number of observations"
   ]
  },
  {
   "cell_type": "code",
   "execution_count": null,
   "metadata": {},
   "outputs": [],
   "source": [
    "_nobs = 30000\n",
    "def newpar2(parfile,timfile):\n",
    "    \"\"\"\n",
    "    Run tempo2, return new parfile (as list of lines).  input parfile\n",
    "    can be either lines or a filename.\n",
    "    \"\"\"\n",
    "    orig_dir = os.getcwd()\n",
    "    try:\n",
    "        temp_dir = tempfile.mkdtemp(prefix=\"tempo2\")\n",
    "        try:\n",
    "            lines = open(parfile,'r').readlines()\n",
    "        except:\n",
    "            lines = parfile\n",
    "        open(\"%s/pulsar.par\" % temp_dir, 'w').writelines(lines)\n",
    "        timpath = os.path.abspath(timfile)\n",
    "        os.chdir(temp_dir)\n",
    "        cmd = \"tempo2 -nobs %d -newpar -f pulsar.par %s -norescale\" % (_nobs, timpath)\n",
    "        os.system(cmd + \" > /dev/null\")\n",
    "        outparlines = open('new.par').readlines()\n",
    "    finally:\n",
    "        os.chdir(orig_dir)\n",
    "    os.system(\"rm -rf %s\" % temp_dir)\n",
    "    for l in outparlines:\n",
    "        if l.startswith('TRES'): rms = float(l.split()[1])\n",
    "        elif l.startswith('CHI2R'): (foo, chi2r, ndof) = l.split()\n",
    "    return float(chi2r)*float(ndof), int(ndof), rms, outparlines"
   ]
  },
  {
   "cell_type": "markdown",
   "metadata": {},
   "source": [
    "### Set up date file path for PSR J1600-3053. \n",
    "\n",
    "* Note\n",
    "  * This path only works when PINT is installed from source code, which has docs and example directories."
   ]
  },
  {
   "cell_type": "code",
   "execution_count": null,
   "metadata": {},
   "outputs": [],
   "source": [
    "psr = \"J1600-3053\"\n",
    "par_file = os.path.join('../examples', psr + \"_NANOGrav_11yv1.gls.par\")\n",
    "tim_file = os.path.join('../examples', psr + \"_NANOGrav_11yv1.tim\")"
   ]
  },
  {
   "cell_type": "markdown",
   "metadata": {},
   "source": [
    "## PINT run\n",
    "\n",
    "### Load TOAs to PINT"
   ]
  },
  {
   "cell_type": "code",
   "execution_count": null,
   "metadata": {},
   "outputs": [],
   "source": [
    "t = toa.get_TOAs(tim_file, ephem=\"DE436\", bipm_version=\"BIPM2015\")"
   ]
  },
  {
   "cell_type": "code",
   "execution_count": null,
   "metadata": {},
   "outputs": [],
   "source": [
    "print(\"There are {} TOAs in the dataset.\".format(t.ntoas))"
   ]
  },
  {
   "cell_type": "markdown",
   "metadata": {},
   "source": [
    "### Load timing model from .par file\n",
    "\n",
    "Since PINT only uses the IAU 2000 version of precession-nutation model but NANOGrav 11-year data uses old precession-nutation model, You will see a UserWarning: `PINT only supports 'T2CMETHOD IAU2000B'`. "
   ]
  },
  {
   "cell_type": "code",
   "execution_count": null,
   "metadata": {},
   "outputs": [],
   "source": [
    "m = models.get_model(par_file)"
   ]
  },
  {
   "cell_type": "markdown",
   "metadata": {},
   "source": [
    "### Make the General Least Square fitter"
   ]
  },
  {
   "cell_type": "code",
   "execution_count": null,
   "metadata": {},
   "outputs": [],
   "source": [
    "f = GLSFitter(model=m, toas=t)"
   ]
  },
  {
   "cell_type": "markdown",
   "metadata": {},
   "source": [
    "### Fit TOAs for 9 iterations.\n",
    "\n",
    "The expected chi2 value should be close to TEMPO and TEMPO2, but not the same."
   ]
  },
  {
   "cell_type": "code",
   "execution_count": null,
   "metadata": {},
   "outputs": [],
   "source": [
    "chi2 = f.fit_toas(9)\n",
    "print(\"Postfit Chi2: \", chi2)\n",
    "print(\"Degree of freedom: \", f.resids.dof)"
   ]
  },
  {
   "cell_type": "markdown",
   "metadata": {},
   "source": [
    "\n",
    "### The weighted RMS value for pre-fit and post-fit residuals"
   ]
  },
  {
   "cell_type": "code",
   "execution_count": null,
   "metadata": {},
   "outputs": [],
   "source": [
    "print(\"Pre-fit residual weighted RMS:\", f.resids_init.rms_weighted())\n",
    "print(\"Post-fit residual weighted RMS:\", f.resids.rms_weighted())"
   ]
  },
  {
   "cell_type": "markdown",
   "metadata": {},
   "source": [
    "### Plot the pre-fit and post-fit residuals"
   ]
  },
  {
   "cell_type": "code",
   "execution_count": null,
   "metadata": {},
   "outputs": [],
   "source": [
    "pint_prefit = f.resids_init.time_resids.to_value(u.us)\n",
    "pint_postfit = f.resids.time_resids.to_value(u.us)\n",
    "\n",
    "plt.figure(figsize=(8,5), dpi=150)\n",
    "plt.subplot(2, 1, 1)\n",
    "plt.errorbar(t.get_mjds().to_value(u.day), f.resids_init.time_resids.to_value(u.us), \n",
    "             yerr=t.get_errors().to_value(u.us), fmt='x')\n",
    "\n",
    "plt.xlabel('MJD (day)')\n",
    "plt.ylabel('Time Residuals (us)')\n",
    "plt.title('PINT pre-fit residuals for PSR J1600-3053 NANOGrav 11-year data')\n",
    "plt.grid(True)\n",
    "\n",
    "plt.subplot(2, 1, 2)\n",
    "plt.errorbar(t.get_mjds().to_value(u.day), f.resids.time_resids.to_value(u.us), \n",
    "             yerr=t.get_errors().to_value(u.us), fmt='x')\n",
    "plt.xlabel('MJD (day)')\n",
    "plt.ylabel('Time Residuals (us)')\n",
    "plt.title('PINT post-fit residuals for PSR J1600-3053 NANOGrav 11-year data')\n",
    "plt.grid(True)\n",
    "plt.tight_layout()\n",
    "plt.savefig(\"J1600_PINT\")"
   ]
  },
  {
   "cell_type": "markdown",
   "metadata": {},
   "source": [
    "## TEMPO run\n",
    "\n",
    "### Use tempo_utils to analysis the same data set."
   ]
  },
  {
   "cell_type": "code",
   "execution_count": null,
   "metadata": {},
   "outputs": [],
   "source": [
    "tempo_toa = tempo_utils.read_toa_file(tim_file)\n",
    "tempo_chi2, ndof, rms_t, tempo_par = tempo_utils.run_tempo(tempo_toa ,par_file, get_output_par=True, \n",
    "                                                   gls=True)"
   ]
  },
  {
   "cell_type": "code",
   "execution_count": null,
   "metadata": {},
   "outputs": [],
   "source": [
    "print(\"TEMPO postfit chi2: \", tempo_chi2)\n",
    "print(\"TEMPO postfit weighted rms: \", rms_t)"
   ]
  },
  {
   "cell_type": "markdown",
   "metadata": {},
   "source": [
    "### Write the TEMPO postfit model to a new .par file, for comparison later"
   ]
  },
  {
   "cell_type": "code",
   "execution_count": null,
   "metadata": {},
   "outputs": [],
   "source": [
    "# Write out the post fit tempo parfile.\n",
    "tempo_parfile = open(psr + '_tempo.par', 'w')\n",
    "for line in tempo_par:\n",
    "    tempo_parfile.write(line)\n",
    "tempo_parfile.close()"
   ]
  },
  {
   "cell_type": "markdown",
   "metadata": {},
   "source": [
    "### Get the TEMPO residuals"
   ]
  },
  {
   "cell_type": "code",
   "execution_count": null,
   "metadata": {},
   "outputs": [],
   "source": [
    "tempo_prefit = tempo_toa.get_prefit()\n",
    "tempo_postfit = tempo_toa.get_resids()\n",
    "mjds = tempo_toa.get_mjd()\n",
    "freqs = tempo_toa.get_freq()\n",
    "errs = tempo_toa.get_resid_err()"
   ]
  },
  {
   "cell_type": "markdown",
   "metadata": {},
   "source": [
    "### Plot the PINT - TEMPO residual difference."
   ]
  },
  {
   "cell_type": "code",
   "execution_count": null,
   "metadata": {},
   "outputs": [],
   "source": [
    "tp_diff_pre = (pint_prefit - tempo_prefit) * u.us \n",
    "tp_diff_post = (pint_postfit - tempo_postfit) * u.us"
   ]
  },
  {
   "cell_type": "code",
   "execution_count": null,
   "metadata": {},
   "outputs": [],
   "source": [
    "plt.figure(figsize=(8,5), dpi=150)\n",
    "plt.subplot(2, 1, 1)\n",
    "plt.plot(mjds, (tp_diff_pre - tp_diff_pre.mean()).to_value(u.ns), '+')\n",
    "plt.xlabel('MJD (day)')\n",
    "plt.ylabel('Time Residuals (ns)')\n",
    "plt.title('PSR J1600-3053 prefit residual differences between PINT and TEMPO')\n",
    "plt.grid(True)\n",
    "plt.subplot(2, 1, 2)\n",
    "plt.plot(mjds, (tp_diff_post - tp_diff_post.mean()).to_value(u.ns), '+')\n",
    "plt.xlabel('MJD (day)')\n",
    "plt.ylabel('Time Residuals (ns)')\n",
    "plt.title('PSR J1600-3053 postfit residual differences between PINT and TEMPO')\n",
    "plt.grid(True)\n",
    "plt.tight_layout()\n",
    "plt.savefig(\"J1600_PINT_tempo.eps\")"
   ]
  },
  {
   "cell_type": "markdown",
   "metadata": {},
   "source": [
    "The PINT-TEMPO pre-fit residual discrepancy is due to the different precession-nutation model in the two packages.\n",
    "* TEMPO: IAU6501976 precession and IAU 1980 nutation.\n",
    "* PINT: IAU2000B precession-nutation."
   ]
  },
  {
   "cell_type": "markdown",
   "metadata": {},
   "source": [
    "### Compare the parameter between TEMPO and PINT\n",
    "\n",
    "* Reported quantities\n",
    "  * TEMPO value\n",
    "  * TEMPO uncertainty \n",
    "  * Parameter units\n",
    "  * TEMPO parameter value - PINT parameter value\n",
    "  * TEMPO/PINT parameter absolute difference divided by TEMPO uncertainty \n",
    "  * PINT uncertainty divided by TEMPO uncertainty, if TEMPO provides the uncertainty value"
   ]
  },
  {
   "cell_type": "code",
   "execution_count": null,
   "metadata": {},
   "outputs": [],
   "source": [
    "# Create the parameter compare table\n",
    "tv = []\n",
    "tu = []\n",
    "tv_pv = []\n",
    "tv_pv_tc = []\n",
    "tc_pc = []\n",
    "units = []\n",
    "names = []\n",
    "no_t_unc = []\n",
    "tempo_new_model = models.get_model(psr + '_tempo.par')\n",
    "for param in tempo_new_model.params:\n",
    "    t_par = getattr(tempo_new_model, param)\n",
    "    pint_par = getattr(f.model, param)\n",
    "    tempoq = t_par.quantity \n",
    "    pintq = pint_par.quantity\n",
    "    try:\n",
    "        diffq =  tempoq - pintq\n",
    "        if t_par.uncertainty_value != 0.0:\n",
    "            diff_tcq = np.abs(diffq) / t_par.uncertainty\n",
    "            uvsu = pint_par.uncertainty / t_par.uncertainty\n",
    "            no_t_unc.append(False)\n",
    "        else:\n",
    "            diff_tcq = np.abs(diffq) / pint_par.uncertainty\n",
    "            uvsu = t_par.uncertainty\n",
    "            no_t_unc.append(True)\n",
    "    except TypeError:\n",
    "        continue\n",
    "    uvsu = pint_par.uncertainty / t_par.uncertainty\n",
    "    tv.append(tempoq.value)\n",
    "    tu.append(t_par.uncertainty.value)\n",
    "    tv_pv.append(diffq.value)\n",
    "    tv_pv_tc.append(diff_tcq.value)\n",
    "    tc_pc.append(uvsu)\n",
    "    units.append(t_par.units)\n",
    "    names.append(param)\n",
    "    \n",
    "compare_table = Table((names, tv, tu, units, tv_pv, tv_pv_tc, tc_pc, no_t_unc), names = ('name', 'Tempo Value', 'Tempo uncertainty', 'units', \n",
    "                                                                                      'Tempo_V-PINT_V', \n",
    "                                                                                      'Tempo_PINT_diff/unct', \n",
    "                                                                                      'PINT_unct/Tempo_unct', \n",
    "                                                                                      'no_t_unc')) \n",
    "compare_table.sort('Tempo_PINT_diff/unct')\n",
    "compare_table = compare_table[::-1]\n",
    "compare_table.write('parameter_compare.t.html', format='html', overwrite=True)"
   ]
  },
  {
   "cell_type": "markdown",
   "metadata": {},
   "source": [
    "### Print the parameter difference in a table.\n",
    "\n",
    "The table is sorted by relative difference in descending order. "
   ]
  },
  {
   "cell_type": "code",
   "execution_count": null,
   "metadata": {},
   "outputs": [],
   "source": [
    "compare_table"
   ]
  },
  {
   "cell_type": "markdown",
   "metadata": {},
   "source": [
    "### If one wants the Latex output please use the cell below. "
   ]
  },
  {
   "cell_type": "code",
   "execution_count": null,
   "metadata": {},
   "outputs": [],
   "source": [
    "#ascii.write(compare_table, sys.stdout, Writer = ascii.Latex,\n",
    "#            latexdict = {'tabletype': 'table*'})"
   ]
  },
  {
   "cell_type": "markdown",
   "metadata": {},
   "source": [
    "### Check out the maximum DMX difference"
   ]
  },
  {
   "cell_type": "code",
   "execution_count": null,
   "metadata": {},
   "outputs": [],
   "source": [
    "max_dmx = 0\n",
    "max_dmx_index = 0\n",
    "for ii, row in enumerate(compare_table):\n",
    "    if row['name'].startswith('DMX_'):\n",
    "        if row['Tempo_PINT_diff/unct'] > max_dmx:\n",
    "            max_dmx = row['Tempo_PINT_diff/unct']\n",
    "            max_dmx_index = ii\n",
    "\n",
    "dmx_max = compare_table[max_dmx_index]['name']\n",
    "\n",
    "compare_table[max_dmx_index]\n"
   ]
  },
  {
   "cell_type": "markdown",
   "metadata": {},
   "source": [
    "### Output the table in the paper"
   ]
  },
  {
   "cell_type": "code",
   "execution_count": null,
   "metadata": {},
   "outputs": [],
   "source": [
    "paper_params = ['F0', 'F1', 'FD1', 'FD2', 'JUMP1', 'PX', \n",
    "                'ELONG', 'ELAT', 'PMELONG', 'PMELAT', 'PB', \n",
    "                'A1', 'A1DOT', 'ECC', 'T0', 'OM', 'OMDOT', 'M2',\n",
    "                'SINI', dmx_max]\n",
    "# Get the table index of the parameters above\n",
    "paper_param_index = []\n",
    "for pp in paper_params:\n",
    "    # We assume the parameter name are unique in the table\n",
    "    idx = np.where(compare_table['name'] == pp)[0][0]\n",
    "    paper_param_index.append(idx)\n",
    "paper_param_index = np.array(paper_param_index)\n",
    "compare_table[paper_param_index]"
   ]
  },
  {
   "cell_type": "markdown",
   "metadata": {},
   "source": [
    "## TEMPO2 run\n",
    "\n",
    "Before TEMPO2 run, the `.par` file has to be modified for a more accurate TEMPO2 vs PINT comparison. We save the modified .par file in a file named \"[PSR name]_tempo2.par\". In this case, \"J1600-3053_tempo2.par\"\n",
    "\n",
    "* Modified parameters in the .par file:\n",
    "  * ECL IERS2010   ----> ECL IERS 2003 (In this version of TEMPO2, the IERS 2003 Obliquity angle is hardcoded in its code. To match TEMPO2's default value, we change the ECL to IERS 2003 in the `.par` file )\n",
    "  * T2CMETHOD TEMPO  ----> # T2CMETHOD TEMPO (TEMPO2 supports both IAU 2000 precession-nutation model and old TEMPO-style model. To make TEMPO2 ues its default precession and nutation model, IAU 2000, this line in the `.par` file has to be commmented out.)\n",
    "* Note, this modified `.par` file is provided in the `docs/examples` directory. If PINT is not installed from source code, one have to modify the `.par` file from the NANOGrav 11-year data."
   ]
  },
  {
   "cell_type": "code",
   "execution_count": null,
   "metadata": {},
   "outputs": [],
   "source": [
    "tempo2_par = os.path.join('../examples',\"J1600-3053_tempo2.par\")"
   ]
  },
  {
   "cell_type": "markdown",
   "metadata": {},
   "source": [
    "### PINT refit using the modified tempo2-style parfile"
   ]
  },
  {
   "cell_type": "code",
   "execution_count": null,
   "metadata": {},
   "outputs": [],
   "source": [
    "m_t2 = models.get_model(tempo2_par)"
   ]
  },
  {
   "cell_type": "code",
   "execution_count": null,
   "metadata": {},
   "outputs": [],
   "source": [
    "f_t2 = GLSFitter(toas=t, model=m_t2)\n",
    "f_t2.fit_toas()"
   ]
  },
  {
   "cell_type": "markdown",
   "metadata": {},
   "source": [
    "### Tempo2 fit"
   ]
  },
  {
   "cell_type": "code",
   "execution_count": null,
   "metadata": {},
   "outputs": [],
   "source": [
    "tempo2_chi2, ndof, rms_t2, tempo2_new_par = newpar2(tempo2_par, tim_file)\n",
    "print(\"TEMPO2 chi2: \", tempo2_chi2)\n",
    "print(\"TEMPO2 rms: \", rms_t2)"
   ]
  },
  {
   "cell_type": "markdown",
   "metadata": {},
   "source": [
    "### Get TEMPO2 residuals, toa value, observing frequencies, and data error"
   ]
  },
  {
   "cell_type": "code",
   "execution_count": null,
   "metadata": {},
   "outputs": [],
   "source": [
    "tempo2_result = t2u.general2(tempo2_par, tim_file, ['sat', 'pre', 'post', 'freq', 'err'])\n",
    "# TEMPO2's residual unit is second\n",
    "tp2_diff_pre = f_t2.resids_init.time_resids - tempo2_result['pre'] * u.s\n",
    "tp2_diff_post = f_t2.resids.time_resids - tempo2_result['post'] * u.s"
   ]
  },
  {
   "cell_type": "markdown",
   "metadata": {},
   "source": [
    "### Plot the TEMPO2 - PINT residual difference"
   ]
  },
  {
   "cell_type": "code",
   "execution_count": null,
   "metadata": {},
   "outputs": [],
   "source": [
    "plt.figure(figsize=(8,5), dpi=150)\n",
    "plt.subplot(2, 1, 1)\n",
    "plt.plot(mjds, (tp2_diff_pre - tp2_diff_pre.mean()).to_value(u.ns), '+')\n",
    "plt.xlabel('MJD (day)')\n",
    "plt.ylabel('Time Residuals (ns)')\n",
    "plt.title('PSR J1600-3053 prefit residual differences between PINT and TEMPO2')\n",
    "plt.grid(True)\n",
    "plt.subplot(2, 1, 2)\n",
    "plt.plot(mjds, (tp2_diff_post - tp2_diff_post.mean()).to_value(u.ns), '+')\n",
    "plt.xlabel('MJD (day)')\n",
    "plt.ylabel('Time Residuals (ns)')\n",
    "plt.title('PSR J1600-3053 postfit residual differences between PINT and TEMPO2')\n",
    "plt.grid(True)\n",
    "plt.tight_layout()\n",
    "plt.savefig(\"J1600_PINT_tempo2\")"
   ]
  },
  {
   "cell_type": "markdown",
   "metadata": {},
   "source": [
    "In this comparison, PINT and TEMPO2's results, both pre-fit and post-fit, agree with each other within the level of 5 ns."
   ]
  },
  {
   "cell_type": "markdown",
   "metadata": {},
   "source": [
    "### Write out the TEMPO2 postfit parameter to a new file\n",
    "\n",
    "* Note, since the ECL parameter is hard coded in tempo2, we will have to add it manually "
   ]
  },
  {
   "cell_type": "code",
   "execution_count": null,
   "metadata": {},
   "outputs": [],
   "source": [
    "# Write out the post fit tempo parfile.\n",
    "tempo2_parfile = open(psr + '_new_tempo2.2.par', 'w')\n",
    "for line in tempo2_new_par:\n",
    "    tempo2_parfile.write(line)\n",
    "tempo2_parfile.write(\"ECL IERS2003\")\n",
    "tempo2_parfile.close()"
   ]
  },
  {
   "cell_type": "markdown",
   "metadata": {},
   "source": [
    "### Compare the parameter between TEMPO2 and PINT\n",
    "\n",
    "* Reported quantities\n",
    "  * TEMPO2 value\n",
    "  * TEMPO2 uncertainty \n",
    "  * Parameter units\n",
    "  * TEMPO2 parameter value - PINT parameter value\n",
    "  * TEMPO2/PINT parameter absolute difference divided by TEMPO2 uncertainty \n",
    "  * PINT uncertainty divided by TEMPO2 uncertainty, if TEMPO2 provides the uncertainty value"
   ]
  },
  {
   "cell_type": "code",
   "execution_count": null,
   "metadata": {},
   "outputs": [],
   "source": [
    "# Create the parameter compare table\n",
    "tv = []\n",
    "t2_unc = []\n",
    "tv_pv = []\n",
    "tv_pv_tc = []\n",
    "tc_pc = []\n",
    "units = []\n",
    "names = []\n",
    "no_t2_unc = []\n",
    "tempo2_new_model = models.get_model(psr + '_new_tempo2.2.par')\n",
    "for param in tempo2_new_model.params:\n",
    "    t2_par = getattr(tempo2_new_model, param)\n",
    "    pint2_par = getattr(f_t2.model, param)\n",
    "    tempo2q = t2_par.quantity \n",
    "    pint2q = pint2_par.quantity\n",
    "    try:\n",
    "        diff2q =  tempo2q - pint2q\n",
    "        if t2_par.uncertainty_value != 0.0:\n",
    "            diff_tcq = np.abs(diff2q) / t2_par.uncertainty\n",
    "            uvsu = pint2_par.uncertainty / t2_par.uncertainty\n",
    "            no_t2_unc.append(False)\n",
    "        else:\n",
    "            diff_tcq = np.abs(diff2q) / pint2_par.uncertainty\n",
    "            uvsu = t2_par.uncertainty\n",
    "            no_t2_unc.append(True)\n",
    "    except TypeError:\n",
    "        continue\n",
    "    uvsu = pint2_par.uncertainty / t2_par.uncertainty\n",
    "    tv.append(tempo2q.value)\n",
    "    t2_unc.append(t2_par.uncertainty.value)\n",
    "    tv_pv.append(diff2q.value)\n",
    "    tv_pv_tc.append(diff_tcq.value)\n",
    "    tc_pc.append(uvsu)\n",
    "    units.append(t2_par.units)\n",
    "    names.append(param)\n",
    "    \n",
    "compare_table2 = Table((names, tv, t2_unc,units, tv_pv, tv_pv_tc, tc_pc, no_t2_unc), names = ('name', 'Tempo2 Value', 'T2 unc','units', \n",
    "                                                                                      'Tempo2_V-PINT_V', \n",
    "                                                                                      'Tempo2_PINT_diff/unct', \n",
    "                                                                                      'PINT_unct/Tempo2_unct', \n",
    "                                                                                      'no_t_unc')) \n",
    "compare_table2.sort('Tempo2_PINT_diff/unct')\n",
    "compare_table2 = compare_table2[::-1]\n",
    "compare_table2.write('parameter_compare.t2.html', format='html', overwrite=True)"
   ]
  },
  {
   "cell_type": "markdown",
   "metadata": {},
   "source": [
    "### Print the parameter difference in a table.\n",
    "The table is sorted by relative difference in descending order. "
   ]
  },
  {
   "cell_type": "code",
   "execution_count": null,
   "metadata": {},
   "outputs": [],
   "source": [
    "compare_table2"
   ]
  },
  {
   "cell_type": "markdown",
   "metadata": {},
   "source": [
    "### If one wants to get the latex version, please use the line below."
   ]
  },
  {
   "cell_type": "code",
   "execution_count": null,
   "metadata": {},
   "outputs": [],
   "source": [
    "#ascii.write(compare_table2, sys.stdout, Writer = ascii.Latex,\n",
    "#            latexdict = {'tabletype': 'table*'})"
   ]
  },
  {
   "cell_type": "markdown",
   "metadata": {},
   "source": [
    "### Check out the maximum DMX difference"
   ]
  },
  {
   "cell_type": "code",
   "execution_count": null,
   "metadata": {},
   "outputs": [],
   "source": [
    "max_dmx = 0\n",
    "max_dmx_index = 0\n",
    "for ii, row in enumerate(compare_table2):\n",
    "    if row['name'].startswith('DMX_'):\n",
    "        if row['Tempo2_PINT_diff/unct'] > max_dmx:\n",
    "            max_dmx = row['Tempo2_PINT_diff/unct']\n",
    "            max_dmx_index = ii\n",
    "\n",
    "dmx_max2 = compare_table2[max_dmx_index]['name']\n",
    "\n",
    "compare_table2[max_dmx_index]"
   ]
  },
  {
   "cell_type": "markdown",
   "metadata": {},
   "source": [
    "### Output the table in the paper"
   ]
  },
  {
   "cell_type": "code",
   "execution_count": null,
   "metadata": {},
   "outputs": [],
   "source": [
    "paper_params = ['F0', 'F1', 'FD1', 'FD2', 'JUMP1', 'PX', \n",
    "                'ELONG', 'ELAT', 'PMELONG', 'PMELAT', 'PB', \n",
    "                'A1', 'A1DOT', 'ECC', 'T0', 'OM', 'OMDOT', 'M2',\n",
    "                'SINI', dmx_max]\n",
    "# Get the table index of the parameters above\n",
    "paper_param_index = []\n",
    "for pp in paper_params:\n",
    "    # We assume the parameter name are unique in the table\n",
    "    idx = np.where(compare_table2['name'] == pp)[0][0]\n",
    "    paper_param_index.append(idx)\n",
    "paper_param_index = np.array(paper_param_index)\n",
    "compare_table2[paper_param_index]"
   ]
  },
  {
   "cell_type": "markdown",
   "metadata": {},
   "source": [
    "### The residual difference between PINT and TEMPO2 is at the level of ~1ns \n",
    "\n",
    "* We believe the discrepancy is mainly from the solar system geometric delay. \n",
    "* We will use the tempo2 postfit parameters, which are wrote out to `J1600-3053_new_tempo2.2.par`"
   ]
  },
  {
   "cell_type": "code",
   "execution_count": null,
   "metadata": {},
   "outputs": [],
   "source": [
    "tempo2_result2 = t2u.general2('J1600-3053_new_tempo2.2.par', tim_file, ['sat', 'pre', 'post', 'freq', 'err'])\n",
    "m_t22 = models.get_model('J1600-3053_new_tempo2.2.par')\n",
    "f_t22 = GLSFitter(toas=t, model=m_t22)\n",
    "f_t22.fit_toas()\n",
    "tp2_diff_pre2 = f_t22.resids_init.time_resids - tempo2_result2['pre'] * u.s\n",
    "tp2_diff_post2 = f_t22.resids.time_resids - tempo2_result2['post'] * u.s"
   ]
  },
  {
   "cell_type": "code",
   "execution_count": null,
   "metadata": {},
   "outputs": [],
   "source": [
    "PINT_solar = m_t22.solar_system_geometric_delay(t)\n",
    "tempo2_solar = t2u.general2('J1600-3053_new_tempo2.2.par', tim_file, ['roemer'])"
   ]
  },
  {
   "cell_type": "code",
   "execution_count": null,
   "metadata": {},
   "outputs": [],
   "source": [
    "diff_solar = PINT_solar + tempo2_solar['roemer'] * u.s\n",
    "plt.figure(figsize=(8,2.5), dpi=150)\n",
    "plt.plot(mjds, (tp2_diff_post2 - tp2_diff_post2.mean()).to_value(u.ns), '+')\n",
    "plt.plot(mjds, (diff_solar - diff_solar.mean()).to_value(u.ns, equivalencies=[(ls, u.s)]), 'x')\n",
    "\n",
    "plt.xlabel('MJD (day)')\n",
    "plt.ylabel('Discrepancies (ns)')\n",
    "#plt.title('PSR J1600-3053 postfit residual differences between PINT and TEMPO2')\n",
    "plt.grid(True)\n",
    "plt.legend(['Postfit Residual Differences', 'Solar System Geometric Delay Difference'],\n",
    "           loc='upper center', bbox_to_anchor=(0.5, -0.3), shadow=True, ncol=2)\n",
    "plt.tight_layout()\n",
    "plt.savefig(\"solar_geo\")"
   ]
  }
 ],
 "metadata": {
  "kernelspec": {
   "display_name": "Python 3",
   "language": "python",
   "name": "python3"
  },
  "language_info": {
   "codemirror_mode": {
    "name": "ipython",
    "version": 3
   },
   "file_extension": ".py",
   "mimetype": "text/x-python",
   "name": "python",
   "nbconvert_exporter": "python",
   "pygments_lexer": "ipython3",
   "version": "3.6.12"
  }
 },
 "nbformat": 4,
 "nbformat_minor": 2
}
